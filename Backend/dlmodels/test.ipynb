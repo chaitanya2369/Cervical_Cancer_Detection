{
 "cells": [
  {
   "cell_type": "code",
   "execution_count": 14,
   "metadata": {},
   "outputs": [
    {
     "name": "stdout",
     "output_type": "stream",
     "text": [
      "Testing AF Model\n",
      "Predictions: [0]\n"
     ]
    }
   ],
   "source": [
    "import pandas as pd\n",
    "import pickle\n",
    "from sklearn.metrics import accuracy_score, classification_report, confusion_matrix, ConfusionMatrixDisplay\n",
    "import matplotlib.pyplot as plt\n",
    "\n",
    "# Step 1: Load the saved objects for AF\n",
    "with open('selector_af.pkl', 'rb') as f:\n",
    "    loaded_selector_af = pickle.load(f)\n",
    "\n",
    "with open('scaler_af.pkl', 'rb') as f:\n",
    "    loaded_scaler_af = pickle.load(f)\n",
    "\n",
    "with open('svm_model_af.pkl', 'rb') as f:\n",
    "    loaded_model_af = pickle.load(f)\n",
    "\n",
    "# Step 2: Load test data (e.g., a subset of the original AF dataset)\n",
    "# You can also use new data here\n",
    "data_af = pd.read_excel(\"X_test_scaled.xlsx\")\n",
    "\n",
    "# Separate features and labels (if labels are available for evaluation)\n",
    "# X_test_af = data_af.drop(\"Class\", axis=1)\n",
    "# y_test_af = data_af[\"Class\"].map({\"N\": 0, \"C\": 1})  # Map labels to 0 and 1\n",
    "\n",
    "# print(X_test_af)\n",
    "\n",
    "# select=['Cell Area', 'Cell Diameter', 'Nucleus Area', 'Cytoplasm Area', 'NC Ratio', 'Cell Perimeter', 'Cytoplasm Perimeter', 'MeanGray', 'Median', 'Variance', 'StandardDeviation', 'Contrast', 'Homogenity', 'Correlation', 'Dissimilarity']\n",
    "# X_test_selected_af = X_test_af\n",
    "\n",
    "# for i in X_test_selected_af.columns:\n",
    "#     if i not in select:\n",
    "#         X_test_selected_af = X_test_selected_af.drop(i, axis=1)\n",
    "\n",
    "# print(X_test_selected_af)\n",
    "\n",
    "# Step 4: Apply feature selection using the loaded selector\n",
    "X_test_selected_af = loaded_selector_af.transform(data_af)\n",
    "\n",
    "\n",
    "# Step 5: Scale the features using the loaded scaler\n",
    "X_test_scaled_af = loaded_scaler_af.transform(X_test_selected_af)\n",
    "\n",
    "# Step 6: Make predictions using the loaded SVM model\n",
    "predictions_af = loaded_model_af.predict(X_test_scaled_af)\n",
    "\n",
    "# Step 7: Evaluate the predictions (if true labels are available)\n",
    "print(\"Testing AF Model\")\n",
    "print(\"Predictions:\", predictions_af)"
   ]
  },
  {
   "cell_type": "code",
   "execution_count": null,
   "metadata": {},
   "outputs": [],
   "source": []
  }
 ],
 "metadata": {
  "kernelspec": {
   "display_name": "base",
   "language": "python",
   "name": "python3"
  },
  "language_info": {
   "codemirror_mode": {
    "name": "ipython",
    "version": 3
   },
   "file_extension": ".py",
   "mimetype": "text/x-python",
   "name": "python",
   "nbconvert_exporter": "python",
   "pygments_lexer": "ipython3",
   "version": "3.12.7"
  }
 },
 "nbformat": 4,
 "nbformat_minor": 2
}
